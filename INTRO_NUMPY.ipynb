{
 "cells": [
  {
   "cell_type": "code",
   "execution_count": 1,
   "id": "6c6841e7",
   "metadata": {},
   "outputs": [],
   "source": [
    "import numpy as np\n"
   ]
  },
  {
   "cell_type": "code",
   "execution_count": 5,
   "id": "f101094a",
   "metadata": {},
   "outputs": [
    {
     "data": {
      "text/plain": [
       "array([[0.],\n",
       "       [0.]])"
      ]
     },
     "execution_count": 5,
     "metadata": {},
     "output_type": "execute_result"
    }
   ],
   "source": [
    "\n",
    "w1,w2,w3=0.4,0.3,0.5\n",
    "np.zeros((2,1))"
   ]
  },
  {
   "cell_type": "code",
   "execution_count": 2,
   "id": "8dcf0242",
   "metadata": {},
   "outputs": [],
   "source": [
    "kanto_temp = 73\n",
    "kanto_rainfall = 67\n",
    "kanto_humidity = 43"
   ]
  },
  {
   "cell_type": "code",
   "execution_count": 3,
   "id": "7f975e18",
   "metadata": {},
   "outputs": [
    {
     "data": {
      "text/plain": [
       "70.8"
      ]
     },
     "execution_count": 3,
     "metadata": {},
     "output_type": "execute_result"
    }
   ],
   "source": [
    "kanto_yield_apples = kanto_temp * w1 + kanto_rainfall * w2 + kanto_humidity * w3\n",
    "kanto_yield_apples"
   ]
  },
  {
   "cell_type": "code",
   "execution_count": 5,
   "id": "d9cdca05",
   "metadata": {},
   "outputs": [
    {
     "name": "stdout",
     "output_type": "stream",
     "text": [
      "The expected yield of apples in kanto region is 70.8 tons per hectare  \n"
     ]
    }
   ],
   "source": [
    "print(\"The expected yield of apples in kanto region is {} tons per hectare  \".format(kanto_yield_apples))"
   ]
  },
  {
   "cell_type": "code",
   "execution_count": 6,
   "id": "e5dc4d0a",
   "metadata": {},
   "outputs": [],
   "source": [
    "kanto = [73, 67, 43]\n",
    "johto = [91, 88, 64]\n",
    "hoenn = [87, 134, 58]\n",
    "sinnoh = [102, 43, 37]\n",
    "unova = [69, 96, 70]"
   ]
  },
  {
   "cell_type": "code",
   "execution_count": 7,
   "id": "0fb2781a",
   "metadata": {},
   "outputs": [],
   "source": [
    "weights=[w1,w2,w3]"
   ]
  },
  {
   "cell_type": "code",
   "execution_count": 8,
   "id": "c3a837c9",
   "metadata": {},
   "outputs": [],
   "source": [
    "def crop_yield(region,weights):\n",
    "    result=0\n",
    "    for r ,x in zip(region,weights):\n",
    "        result+=r*x\n",
    "    return result\n"
   ]
  },
  {
   "cell_type": "code",
   "execution_count": 9,
   "id": "bcf189db",
   "metadata": {},
   "outputs": [
    {
     "data": {
      "text/plain": [
       "70.8"
      ]
     },
     "execution_count": 9,
     "metadata": {},
     "output_type": "execute_result"
    }
   ],
   "source": [
    "crop_yield(kanto,weights)"
   ]
  },
  {
   "cell_type": "markdown",
   "id": "3494e9eb",
   "metadata": {},
   "source": [
    "converting  alist into array"
   ]
  },
  {
   "cell_type": "code",
   "execution_count": 12,
   "id": "eac34cdb",
   "metadata": {},
   "outputs": [],
   "source": [
    "kanto=np.array(kanto)"
   ]
  },
  {
   "cell_type": "code",
   "execution_count": null,
   "id": "a8eb9b25",
   "metadata": {},
   "outputs": [],
   "source": [
    "type(kanto)"
   ]
  },
  {
   "cell_type": "code",
   "execution_count": 13,
   "id": "c82a1425",
   "metadata": {},
   "outputs": [
    {
     "data": {
      "text/plain": [
       "<function numpy.size(a, axis=None)>"
      ]
     },
     "execution_count": 13,
     "metadata": {},
     "output_type": "execute_result"
    }
   ],
   "source": [
    "np.size"
   ]
  },
  {
   "cell_type": "code",
   "execution_count": 14,
   "id": "5b223c1f",
   "metadata": {},
   "outputs": [],
   "source": [
    "arr1=np.array([[2,4,3,4],[3,4,5,6]])"
   ]
  },
  {
   "cell_type": "code",
   "execution_count": 15,
   "id": "21ca68d2",
   "metadata": {},
   "outputs": [
    {
     "data": {
      "text/plain": [
       "(2, 4)"
      ]
     },
     "execution_count": 15,
     "metadata": {},
     "output_type": "execute_result"
    }
   ],
   "source": [
    "arr1.shape"
   ]
  },
  {
   "cell_type": "code",
   "execution_count": 16,
   "id": "b999e2af",
   "metadata": {},
   "outputs": [
    {
     "data": {
      "text/plain": [
       "70.8"
      ]
     },
     "execution_count": 16,
     "metadata": {},
     "output_type": "execute_result"
    }
   ],
   "source": [
    "np.dot(kanto,weights)"
   ]
  },
  {
   "cell_type": "code",
   "execution_count": null,
   "id": "e32146e6",
   "metadata": {},
   "outputs": [],
   "source": [
    "# can acheive the above by given method"
   ]
  },
  {
   "cell_type": "code",
   "execution_count": 17,
   "id": "37d8238f",
   "metadata": {},
   "outputs": [
    {
     "data": {
      "text/plain": [
       "70.8"
      ]
     },
     "execution_count": 17,
     "metadata": {},
     "output_type": "execute_result"
    }
   ],
   "source": [
    "(kanto*weights).sum()"
   ]
  },
  {
   "cell_type": "code",
   "execution_count": 18,
   "id": "20643415",
   "metadata": {},
   "outputs": [],
   "source": [
    "arr1=np.array([1,2,3])\n",
    "arr2=np.array([4,5,6])"
   ]
  },
  {
   "cell_type": "code",
   "execution_count": 19,
   "id": "40773984",
   "metadata": {},
   "outputs": [
    {
     "data": {
      "text/plain": [
       "array([ 4, 10, 18])"
      ]
     },
     "execution_count": 19,
     "metadata": {},
     "output_type": "execute_result"
    }
   ],
   "source": [
    "arr1*arr2"
   ]
  },
  {
   "cell_type": "code",
   "execution_count": 20,
   "id": "98e28466",
   "metadata": {},
   "outputs": [
    {
     "data": {
      "text/plain": [
       "15"
      ]
     },
     "execution_count": 20,
     "metadata": {},
     "output_type": "execute_result"
    }
   ],
   "source": [
    "arr2.sum()"
   ]
  },
  {
   "cell_type": "code",
   "execution_count": null,
   "id": "8c1785ef",
   "metadata": {},
   "outputs": [],
   "source": [
    "#Benefits of using numpy arrays"
   ]
  },
  {
   "cell_type": "markdown",
   "id": "82d926d6",
   "metadata": {},
   "source": [
    "Numpy arrays offer the following benefits over Python lists for operating on numerical data:\n",
    "\n",
    "Ease of use: You can write small, concise, and intuitive mathematical expressions like (kanto * weights).sum() rather than using loops & custom functions like crop_yield.\n",
    "Performance: Numpy operations and functions are implemented internally in C++, which makes them much faster than using Python statements & loops that are interpreted at runtime"
   ]
  },
  {
   "cell_type": "markdown",
   "id": "2061ff2c",
   "metadata": {},
   "source": [
    "arr1=list(range(10000000))"
   ]
  },
  {
   "cell_type": "code",
   "execution_count": 21,
   "id": "910ac219",
   "metadata": {},
   "outputs": [],
   "source": [
    "arr1=list(range(1000000))"
   ]
  },
  {
   "cell_type": "code",
   "execution_count": 22,
   "id": "cf8fddd1",
   "metadata": {},
   "outputs": [],
   "source": [
    "arr2 = list(range(1000000, 2000000))"
   ]
  },
  {
   "cell_type": "code",
   "execution_count": 23,
   "id": "88d98e0b",
   "metadata": {},
   "outputs": [],
   "source": [
    "arr1_np = np.array(arr1)\n",
    "arr2_np = np.array(arr2)"
   ]
  },
  {
   "cell_type": "code",
   "execution_count": 24,
   "id": "3ca6c480",
   "metadata": {},
   "outputs": [
    {
     "name": "stdout",
     "output_type": "stream",
     "text": [
      "Wall time: 204 ms\n"
     ]
    },
    {
     "data": {
      "text/plain": [
       "833332333333500000"
      ]
     },
     "execution_count": 24,
     "metadata": {},
     "output_type": "execute_result"
    }
   ],
   "source": [
    "%%time \n",
    "result=0\n",
    "for x1,x2 in zip(arr1,arr2):\n",
    "    result+=x1*x2\n",
    "result"
   ]
  },
  {
   "cell_type": "code",
   "execution_count": 25,
   "id": "71c25600",
   "metadata": {},
   "outputs": [
    {
     "name": "stdout",
     "output_type": "stream",
     "text": [
      "Wall time: 998 µs\n"
     ]
    },
    {
     "data": {
      "text/plain": [
       "-1942957984"
      ]
     },
     "execution_count": 25,
     "metadata": {},
     "output_type": "execute_result"
    }
   ],
   "source": [
    "%%time\n",
    "np.dot(arr1_np ,arr2_np)"
   ]
  },
  {
   "cell_type": "code",
   "execution_count": 26,
   "id": "c76eb52f",
   "metadata": {},
   "outputs": [],
   "source": [
    "import jovian"
   ]
  },
  {
   "cell_type": "code",
   "execution_count": 27,
   "id": "25bd076b",
   "metadata": {},
   "outputs": [
    {
     "data": {
      "application/javascript": [
       "window.require && require([\"base/js/namespace\"],function(Jupyter){Jupyter.notebook.save_checkpoint()})"
      ],
      "text/plain": [
       "<IPython.core.display.Javascript object>"
      ]
     },
     "metadata": {},
     "output_type": "display_data"
    },
    {
     "name": "stdout",
     "output_type": "stream",
     "text": [
      "[jovian] Updating notebook \"raishivam571/intro-numpy\" on https://jovian.ai/\n",
      "[jovian] Committed successfully! https://jovian.ai/raishivam571/intro-numpy\n"
     ]
    },
    {
     "data": {
      "text/plain": [
       "'https://jovian.ai/raishivam571/intro-numpy'"
      ]
     },
     "execution_count": 27,
     "metadata": {},
     "output_type": "execute_result"
    }
   ],
   "source": [
    "jovian.commit()"
   ]
  },
  {
   "cell_type": "markdown",
   "id": "04c5fdd0",
   "metadata": {},
   "source": [
    "# Multi dimensional array"
   ]
  },
  {
   "cell_type": "code",
   "execution_count": 3,
   "id": "3994ae4b",
   "metadata": {},
   "outputs": [],
   "source": [
    "climate_data = np.array([[73, 67, 43],\n",
    "                         [91, 88, 64],\n",
    "                         [87, 134, 58],\n",
    "                         [102, 43, 37],\n",
    "                         [69, 96, 70]])"
   ]
  },
  {
   "cell_type": "code",
   "execution_count": 4,
   "id": "c204e4b6",
   "metadata": {},
   "outputs": [
    {
     "data": {
      "text/plain": [
       "2"
      ]
     },
     "execution_count": 4,
     "metadata": {},
     "output_type": "execute_result"
    }
   ],
   "source": [
    "climate_data.ndim"
   ]
  },
  {
   "cell_type": "code",
   "execution_count": 33,
   "id": "7655d37b",
   "metadata": {},
   "outputs": [
    {
     "data": {
      "text/plain": [
       "dtype('int32')"
      ]
     },
     "execution_count": 33,
     "metadata": {},
     "output_type": "execute_result"
    }
   ],
   "source": [
    " climate_data.dtype"
   ]
  },
  {
   "cell_type": "code",
   "execution_count": 36,
   "id": "a54e33ec",
   "metadata": {},
   "outputs": [],
   "source": [
    "# matrix multiplication"
   ]
  },
  {
   "cell_type": "code",
   "execution_count": 37,
   "id": "47d2ad9c",
   "metadata": {},
   "outputs": [
    {
     "data": {
      "text/plain": [
       "array([ 70.8,  94.8, 104. ,  72.2,  91.4])"
      ]
     },
     "execution_count": 37,
     "metadata": {},
     "output_type": "execute_result"
    }
   ],
   "source": [
    "np.matmul(climate_data,weights)"
   ]
  },
  {
   "cell_type": "markdown",
   "id": "616f383c",
   "metadata": {},
   "source": [
    "# working with csv files"
   ]
  },
  {
   "cell_type": "code",
   "execution_count": 38,
   "id": "c63a054f",
   "metadata": {},
   "outputs": [
    {
     "data": {
      "text/plain": [
       "('climate.txt', <http.client.HTTPMessage at 0x2a37d542fa0>)"
      ]
     },
     "execution_count": 38,
     "metadata": {},
     "output_type": "execute_result"
    }
   ],
   "source": [
    "import urllib.request\n",
    "urllib.request.urlretrieve( 'https://hub.jovian.ml/wp-content/uploads/2020/08/climate.csv', \n",
    "    'climate.txt')"
   ]
  },
  {
   "cell_type": "code",
   "execution_count": 45,
   "id": "9a48a1a9",
   "metadata": {},
   "outputs": [],
   "source": [
    "climate_data=np.genfromtxt('climate.txt',delimiter=',',skip_header=1)"
   ]
  },
  {
   "cell_type": "code",
   "execution_count": 47,
   "id": "b880809f",
   "metadata": {},
   "outputs": [
    {
     "data": {
      "text/plain": [
       "array([[25., 76., 99.],\n",
       "       [39., 65., 70.],\n",
       "       [59., 45., 77.],\n",
       "       ...,\n",
       "       [99., 62., 58.],\n",
       "       [70., 71., 91.],\n",
       "       [92., 39., 76.]])"
      ]
     },
     "execution_count": 47,
     "metadata": {},
     "output_type": "execute_result"
    }
   ],
   "source": [
    "climate_data"
   ]
  },
  {
   "cell_type": "code",
   "execution_count": 48,
   "id": "b3be319a",
   "metadata": {},
   "outputs": [
    {
     "data": {
      "text/plain": [
       "(10000, 3)"
      ]
     },
     "execution_count": 48,
     "metadata": {},
     "output_type": "execute_result"
    }
   ],
   "source": [
    "climate_data.shape"
   ]
  },
  {
   "cell_type": "code",
   "execution_count": 49,
   "id": "51b50611",
   "metadata": {},
   "outputs": [],
   "source": [
    "yields=np.matmul(climate_data,weights)"
   ]
  },
  {
   "cell_type": "code",
   "execution_count": 50,
   "id": "1688d97c",
   "metadata": {},
   "outputs": [
    {
     "data": {
      "text/plain": [
       "array([82.3, 70.1, 75.6, ..., 87.2, 94.8, 86.5])"
      ]
     },
     "execution_count": 50,
     "metadata": {},
     "output_type": "execute_result"
    }
   ],
   "source": [
    "yields"
   ]
  },
  {
   "cell_type": "code",
   "execution_count": 51,
   "id": "15b3bf1e",
   "metadata": {},
   "outputs": [
    {
     "data": {
      "text/plain": [
       "(10000,)"
      ]
     },
     "execution_count": 51,
     "metadata": {},
     "output_type": "execute_result"
    }
   ],
   "source": [
    "yields.shape"
   ]
  },
  {
   "cell_type": "code",
   "execution_count": 66,
   "id": "cb77c04f",
   "metadata": {},
   "outputs": [],
   "source": [
    "climate_result=np.concatenate((climate_data,yields.reshape(10000,1)),axis=1)"
   ]
  },
  {
   "cell_type": "code",
   "execution_count": 56,
   "id": "ae2d11ab",
   "metadata": {},
   "outputs": [
    {
     "data": {
      "text/plain": [
       "array([[25. , 76. , 99. , 82.3],\n",
       "       [39. , 65. , 70. , 70.1],\n",
       "       [59. , 45. , 77. , 75.6],\n",
       "       ...,\n",
       "       [99. , 62. , 58. , 87.2],\n",
       "       [70. , 71. , 91. , 94.8],\n",
       "       [92. , 39. , 76. , 86.5]])"
      ]
     },
     "execution_count": 56,
     "metadata": {},
     "output_type": "execute_result"
    }
   ],
   "source": [
    "climate_result"
   ]
  },
  {
   "cell_type": "code",
   "execution_count": 59,
   "id": "edfea08d",
   "metadata": {},
   "outputs": [],
   "source": [
    "a=np.array([[2,3,4],[6,7,8]])\n",
    "b=np.array([[0,9,8],[6,5,4]])"
   ]
  },
  {
   "cell_type": "code",
   "execution_count": 62,
   "id": "f924d7e1",
   "metadata": {},
   "outputs": [],
   "source": [
    "a_result=np.concatenate((a,b,),axis=1)"
   ]
  },
  {
   "cell_type": "code",
   "execution_count": 63,
   "id": "20249ff9",
   "metadata": {},
   "outputs": [
    {
     "data": {
      "text/plain": [
       "array([[2, 3, 4, 0, 9, 8],\n",
       "       [6, 7, 8, 6, 5, 4]])"
      ]
     },
     "execution_count": 63,
     "metadata": {},
     "output_type": "execute_result"
    }
   ],
   "source": [
    "a_result"
   ]
  },
  {
   "cell_type": "code",
   "execution_count": 72,
   "id": "125eceaa",
   "metadata": {},
   "outputs": [
    {
     "data": {
      "application/javascript": [
       "window.require && require([\"base/js/namespace\"],function(Jupyter){Jupyter.notebook.save_checkpoint()})"
      ],
      "text/plain": [
       "<IPython.core.display.Javascript object>"
      ]
     },
     "metadata": {},
     "output_type": "display_data"
    },
    {
     "name": "stdout",
     "output_type": "stream",
     "text": [
      "[jovian] Updating notebook \"raishivam571/intro-numpy\" on https://jovian.ai/\n",
      "[jovian] Committed successfully! https://jovian.ai/raishivam571/intro-numpy\n"
     ]
    },
    {
     "data": {
      "text/plain": [
       "'https://jovian.ai/raishivam571/intro-numpy'"
      ]
     },
     "execution_count": 72,
     "metadata": {},
     "output_type": "execute_result"
    }
   ],
   "source": [
    "jovian.commit()"
   ]
  },
  {
   "cell_type": "markdown",
   "id": "0c927277",
   "metadata": {},
   "source": [
    "# Arithmetic operations, broadcasting and comparison"
   ]
  },
  {
   "cell_type": "code",
   "execution_count": 75,
   "id": "fbe9e0e9",
   "metadata": {},
   "outputs": [],
   "source": [
    "arr2 = np.array([range(1,5), \n",
    "                range(5,9),\n",
    "                 range(9,13)])"
   ]
  },
  {
   "cell_type": "code",
   "execution_count": 76,
   "id": "6c17ac86",
   "metadata": {},
   "outputs": [],
   "source": [
    "arr3 = np.array([[11, 12, 13, 14], \n",
    "                 [15, 16, 17, 18], \n",
    "                 [19, 11, 12, 13]])"
   ]
  },
  {
   "cell_type": "code",
   "execution_count": 77,
   "id": "4dc2a929",
   "metadata": {},
   "outputs": [
    {
     "data": {
      "text/plain": [
       "array([[ 1,  2,  3,  4],\n",
       "       [ 5,  6,  7,  8],\n",
       "       [ 9, 10, 11, 12]])"
      ]
     },
     "execution_count": 77,
     "metadata": {},
     "output_type": "execute_result"
    }
   ],
   "source": [
    "arr2"
   ]
  },
  {
   "cell_type": "code",
   "execution_count": 78,
   "id": "3d970221",
   "metadata": {},
   "outputs": [
    {
     "data": {
      "text/plain": [
       "array([[ 4,  5,  6,  7],\n",
       "       [ 8,  9, 10, 11],\n",
       "       [12, 13, 14, 15]])"
      ]
     },
     "execution_count": 78,
     "metadata": {},
     "output_type": "execute_result"
    }
   ],
   "source": [
    "arr2+3"
   ]
  },
  {
   "cell_type": "code",
   "execution_count": 79,
   "id": "52365fc6",
   "metadata": {},
   "outputs": [],
   "source": [
    "# we can do +,-,/,* to crosponding element "
   ]
  },
  {
   "cell_type": "code",
   "execution_count": 81,
   "id": "588714ad",
   "metadata": {},
   "outputs": [],
   "source": [
    "#Array Broadcasting\n"
   ]
  },
  {
   "cell_type": "code",
   "execution_count": 82,
   "id": "b5122d72",
   "metadata": {},
   "outputs": [],
   "source": [
    "arr2 = np.array([[1, 2, 3, 4], \n",
    "                 [5, 6, 7, 8], \n",
    "                 [9, 1, 2, 3]])"
   ]
  },
  {
   "cell_type": "code",
   "execution_count": 83,
   "id": "429f5bd2",
   "metadata": {},
   "outputs": [],
   "source": [
    "arr4 = np.array([4, 5, 6, 7])"
   ]
  },
  {
   "cell_type": "code",
   "execution_count": 84,
   "id": "1ba0fe29",
   "metadata": {},
   "outputs": [
    {
     "data": {
      "text/plain": [
       "array([[ 5,  7,  9, 11],\n",
       "       [ 9, 11, 13, 15],\n",
       "       [13,  6,  8, 10]])"
      ]
     },
     "execution_count": 84,
     "metadata": {},
     "output_type": "execute_result"
    }
   ],
   "source": [
    "arr2+arr4"
   ]
  },
  {
   "cell_type": "markdown",
   "id": "c71711da",
   "metadata": {},
   "source": [
    "Array Comparison"
   ]
  },
  {
   "cell_type": "code",
   "execution_count": 88,
   "id": "01d92172",
   "metadata": {},
   "outputs": [],
   "source": [
    "arr1 = np.array([[1, 2, 3], [3, 4, 5]])\n",
    "arr2 = np.array([[2, 2, 3], [1, 2, 5]])\n"
   ]
  },
  {
   "cell_type": "code",
   "execution_count": 89,
   "id": "ad8c6727",
   "metadata": {},
   "outputs": [
    {
     "data": {
      "text/plain": [
       "array([[False,  True,  True],\n",
       "       [False, False,  True]])"
      ]
     },
     "execution_count": 89,
     "metadata": {},
     "output_type": "execute_result"
    }
   ],
   "source": [
    "arr1==arr2"
   ]
  },
  {
   "cell_type": "code",
   "execution_count": 90,
   "id": "aa2785d4",
   "metadata": {},
   "outputs": [
    {
     "data": {
      "text/plain": [
       "array([[ True, False, False],\n",
       "       [ True,  True, False]])"
      ]
     },
     "execution_count": 90,
     "metadata": {},
     "output_type": "execute_result"
    }
   ],
   "source": [
    "arr1!=arr2"
   ]
  },
  {
   "cell_type": "markdown",
   "id": "eb1f2917",
   "metadata": {},
   "source": [
    "Array comparison is frequently used to count the number of equal elements in two arrays using the sum method. Remember that True evaluates to 1 and False evaluates to 0 when booleans are used in arithmetic operations."
   ]
  },
  {
   "cell_type": "code",
   "execution_count": 91,
   "id": "080dc4a9",
   "metadata": {},
   "outputs": [],
   "source": [
    "# if we have to find the the numbers of element which are same at crosponding postion"
   ]
  },
  {
   "cell_type": "code",
   "execution_count": 92,
   "id": "0e5ce5e7",
   "metadata": {},
   "outputs": [
    {
     "data": {
      "text/plain": [
       "3"
      ]
     },
     "execution_count": 92,
     "metadata": {},
     "output_type": "execute_result"
    }
   ],
   "source": [
    "(arr1==arr2).sum()"
   ]
  },
  {
   "cell_type": "code",
   "execution_count": 94,
   "id": "73f2e8ed",
   "metadata": {},
   "outputs": [],
   "source": [
    "#Array indexing and slicing"
   ]
  },
  {
   "cell_type": "code",
   "execution_count": 95,
   "id": "65ef9f3c",
   "metadata": {},
   "outputs": [],
   "source": [
    "arr3 = np.array([\n",
    "    [[11, 12, 13, 14], \n",
    "     [13, 14, 15, 19]], \n",
    "    \n",
    "    [[15, 16, 17, 21], \n",
    "     [63, 92, 36, 18]], \n",
    "    \n",
    "    [[98, 32, 81, 23],      \n",
    "     [17, 18, 19.5, 43]]])"
   ]
  },
  {
   "cell_type": "code",
   "execution_count": 97,
   "id": "60b9f2a4",
   "metadata": {},
   "outputs": [
    {
     "data": {
      "text/plain": [
       "16.0"
      ]
     },
     "execution_count": 97,
     "metadata": {},
     "output_type": "execute_result"
    }
   ],
   "source": [
    "arr3[1,0,1]"
   ]
  },
  {
   "cell_type": "code",
   "execution_count": 103,
   "id": "9743919e",
   "metadata": {},
   "outputs": [
    {
     "data": {
      "text/plain": [
       "array([[[92. , 36. , 18. ]],\n",
       "\n",
       "       [[18. , 19.5, 43. ]]])"
      ]
     },
     "execution_count": 103,
     "metadata": {},
     "output_type": "execute_result"
    }
   ],
   "source": [
    "arr3[1:,1:,1:]"
   ]
  },
  {
   "cell_type": "code",
   "execution_count": 105,
   "id": "ee15ea0a",
   "metadata": {},
   "outputs": [
    {
     "data": {
      "text/plain": [
       "array([[[13., 14., 15., 19.]],\n",
       "\n",
       "       [[63., 92., 36., 18.]]])"
      ]
     },
     "execution_count": 105,
     "metadata": {},
     "output_type": "execute_result"
    }
   ],
   "source": [
    "arr3[:2, 1:]"
   ]
  },
  {
   "cell_type": "code",
   "execution_count": 106,
   "id": "325d2cb8",
   "metadata": {},
   "outputs": [
    {
     "data": {
      "text/plain": [
       "array([0.31443535, 0.61501943, 0.74216114, 0.22417991, 0.27143669])"
      ]
     },
     "execution_count": 106,
     "metadata": {},
     "output_type": "execute_result"
    }
   ],
   "source": [
    "np.random.rand(5)"
   ]
  },
  {
   "cell_type": "code",
   "execution_count": 108,
   "id": "e5eec311",
   "metadata": {},
   "outputs": [
    {
     "data": {
      "text/plain": [
       "array([[ 0.34820977,  0.61498704, -1.05408423],\n",
       "       [ 0.40155113, -2.07615877, -0.6740518 ]])"
      ]
     },
     "execution_count": 108,
     "metadata": {},
     "output_type": "execute_result"
    }
   ],
   "source": [
    "np.random.randn(2, 3)# randn for normal distribution array mean will be zero"
   ]
  },
  {
   "cell_type": "code",
   "execution_count": 109,
   "id": "a597262c",
   "metadata": {},
   "outputs": [
    {
     "data": {
      "text/plain": [
       "array([[42, 42, 42],\n",
       "       [42, 42, 42]])"
      ]
     },
     "execution_count": 109,
     "metadata": {},
     "output_type": "execute_result"
    }
   ],
   "source": [
    "np.full([2, 3], 42)"
   ]
  },
  {
   "cell_type": "code",
   "execution_count": 6,
   "id": "3a9a3558",
   "metadata": {},
   "outputs": [],
   "source": [
    "arr=np.arange(100)\n",
    "arr1 = arr.reshape(2, 5, 2, -1)"
   ]
  },
  {
   "cell_type": "code",
   "execution_count": 7,
   "id": "390a6a96",
   "metadata": {},
   "outputs": [
    {
     "data": {
      "text/plain": [
       "(2, 5, 2, 5)"
      ]
     },
     "execution_count": 7,
     "metadata": {},
     "output_type": "execute_result"
    }
   ],
   "source": [
    "arr1.shape"
   ]
  },
  {
   "cell_type": "code",
   "execution_count": null,
   "id": "a7ff5480",
   "metadata": {},
   "outputs": [],
   "source": []
  }
 ],
 "metadata": {
  "kernelspec": {
   "display_name": "Python 3",
   "language": "python",
   "name": "python3"
  },
  "language_info": {
   "codemirror_mode": {
    "name": "ipython",
    "version": 3
   },
   "file_extension": ".py",
   "mimetype": "text/x-python",
   "name": "python",
   "nbconvert_exporter": "python",
   "pygments_lexer": "ipython3",
   "version": "3.8.8"
  }
 },
 "nbformat": 4,
 "nbformat_minor": 5
}
